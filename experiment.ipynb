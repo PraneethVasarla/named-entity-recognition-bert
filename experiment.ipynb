{
 "cells": [
  {
   "cell_type": "code",
   "execution_count": 1,
   "metadata": {},
   "outputs": [],
   "source": [
    "import pandas as pd\n",
    "\n",
    "def keep_first_row(group):\n",
    "    return group.iloc[0]\n",
    "\n",
    "df = pd.read_csv(\"dataset/ner_dataset.csv\",encoding=\"unicode_escape\")\n",
    "\n",
    "df['Sentence #'].ffill(inplace=True)\n",
    "\n",
    "# df['sentence'] = df.groupby(['Sentence #'])['Word'].transform(lambda x: ' '.join(x))\n",
    "df['sentence'] = df.groupby(['Sentence #'])['Word'].transform(lambda x: ' '.join(str(word) for word in x))\n",
    "df['tokens'] = df['sentence'].apply(lambda x: x.split())\n",
    "df.drop(\"sentence\",axis=1,inplace=True)\n",
    "\n",
    "df['tags'] = df.groupby(['Sentence #'])['Tag'].transform(lambda x: ' '.join(str(tag) for tag in x))\n",
    "df['ner_tags'] = df['tags'].apply(lambda x: x.split())\n",
    "df.drop(\"tags\",axis=1,inplace=True)\n",
    "\n",
    "df.drop([\"Word\",\"POS\",\"Tag\"],axis=1,inplace=True)\n",
    "df['Sentence #'] = df['Sentence #'].apply(lambda x: x.split(\" \")[-1])\n",
    "df.rename(columns={\"Sentence #\":\"id\"},inplace=True)\n",
    "\n",
    "df = df.groupby('id').apply(keep_first_row)"
   ]
  },
  {
   "cell_type": "code",
   "execution_count": 10,
   "metadata": {},
   "outputs": [],
   "source": [
    "df[\"id\"] = df['id'].apply(lambda x: int(x))\n",
    "df = df.set_index(\"id\").sort_index()"
   ]
  },
  {
   "cell_type": "code",
   "execution_count": 12,
   "metadata": {},
   "outputs": [
    {
     "data": {
      "text/html": [
       "<div>\n",
       "<style scoped>\n",
       "    .dataframe tbody tr th:only-of-type {\n",
       "        vertical-align: middle;\n",
       "    }\n",
       "\n",
       "    .dataframe tbody tr th {\n",
       "        vertical-align: top;\n",
       "    }\n",
       "\n",
       "    .dataframe thead th {\n",
       "        text-align: right;\n",
       "    }\n",
       "</style>\n",
       "<table border=\"1\" class=\"dataframe\">\n",
       "  <thead>\n",
       "    <tr style=\"text-align: right;\">\n",
       "      <th></th>\n",
       "      <th>id</th>\n",
       "      <th>tokens</th>\n",
       "      <th>ner_tags</th>\n",
       "    </tr>\n",
       "  </thead>\n",
       "  <tbody>\n",
       "    <tr>\n",
       "      <th>0</th>\n",
       "      <td>1</td>\n",
       "      <td>[Thousands, of, demonstrators, have, marched, ...</td>\n",
       "      <td>[O, O, O, O, O, O, B-geo, O, O, O, O, O, B-geo...</td>\n",
       "    </tr>\n",
       "    <tr>\n",
       "      <th>1</th>\n",
       "      <td>2</td>\n",
       "      <td>[Families, of, soldiers, killed, in, the, conf...</td>\n",
       "      <td>[O, O, O, O, O, O, O, O, O, O, O, O, O, O, O, ...</td>\n",
       "    </tr>\n",
       "    <tr>\n",
       "      <th>2</th>\n",
       "      <td>3</td>\n",
       "      <td>[They, marched, from, the, Houses, of, Parliam...</td>\n",
       "      <td>[O, O, O, O, O, O, O, O, O, O, O, B-geo, I-geo...</td>\n",
       "    </tr>\n",
       "    <tr>\n",
       "      <th>3</th>\n",
       "      <td>4</td>\n",
       "      <td>[Police, put, the, number, of, marchers, at, 1...</td>\n",
       "      <td>[O, O, O, O, O, O, O, O, O, O, O, O, O, O, O]</td>\n",
       "    </tr>\n",
       "    <tr>\n",
       "      <th>4</th>\n",
       "      <td>5</td>\n",
       "      <td>[The, protest, comes, on, the, eve, of, the, a...</td>\n",
       "      <td>[O, O, O, O, O, O, O, O, O, O, O, B-geo, O, O,...</td>\n",
       "    </tr>\n",
       "    <tr>\n",
       "      <th>...</th>\n",
       "      <td>...</td>\n",
       "      <td>...</td>\n",
       "      <td>...</td>\n",
       "    </tr>\n",
       "    <tr>\n",
       "      <th>47954</th>\n",
       "      <td>47955</td>\n",
       "      <td>[Indian, border, security, forces, are, accusi...</td>\n",
       "      <td>[B-gpe, O, O, O, O, O, O, B-gpe, O, O, O, O, O...</td>\n",
       "    </tr>\n",
       "    <tr>\n",
       "      <th>47955</th>\n",
       "      <td>47956</td>\n",
       "      <td>[Indian, officials, said, no, one, was, injure...</td>\n",
       "      <td>[B-gpe, O, O, O, O, O, O, O, B-tim, O, O, O, O...</td>\n",
       "    </tr>\n",
       "    <tr>\n",
       "      <th>47956</th>\n",
       "      <td>47957</td>\n",
       "      <td>[Two, more, landed, in, fields, belonging, to,...</td>\n",
       "      <td>[O, O, O, O, O, O, O, O, O, O, O]</td>\n",
       "    </tr>\n",
       "    <tr>\n",
       "      <th>47957</th>\n",
       "      <td>47958</td>\n",
       "      <td>[They, say, not, all, of, the, rockets, explod...</td>\n",
       "      <td>[O, O, O, O, O, O, O, O, O, O, O]</td>\n",
       "    </tr>\n",
       "    <tr>\n",
       "      <th>47958</th>\n",
       "      <td>47959</td>\n",
       "      <td>[Indian, forces, said, they, responded, to, th...</td>\n",
       "      <td>[B-gpe, O, O, O, O, O, O, O]</td>\n",
       "    </tr>\n",
       "  </tbody>\n",
       "</table>\n",
       "<p>47959 rows × 3 columns</p>\n",
       "</div>"
      ],
      "text/plain": [
       "          id                                             tokens  \\\n",
       "0          1  [Thousands, of, demonstrators, have, marched, ...   \n",
       "1          2  [Families, of, soldiers, killed, in, the, conf...   \n",
       "2          3  [They, marched, from, the, Houses, of, Parliam...   \n",
       "3          4  [Police, put, the, number, of, marchers, at, 1...   \n",
       "4          5  [The, protest, comes, on, the, eve, of, the, a...   \n",
       "...      ...                                                ...   \n",
       "47954  47955  [Indian, border, security, forces, are, accusi...   \n",
       "47955  47956  [Indian, officials, said, no, one, was, injure...   \n",
       "47956  47957  [Two, more, landed, in, fields, belonging, to,...   \n",
       "47957  47958  [They, say, not, all, of, the, rockets, explod...   \n",
       "47958  47959  [Indian, forces, said, they, responded, to, th...   \n",
       "\n",
       "                                                ner_tags  \n",
       "0      [O, O, O, O, O, O, B-geo, O, O, O, O, O, B-geo...  \n",
       "1      [O, O, O, O, O, O, O, O, O, O, O, O, O, O, O, ...  \n",
       "2      [O, O, O, O, O, O, O, O, O, O, O, B-geo, I-geo...  \n",
       "3          [O, O, O, O, O, O, O, O, O, O, O, O, O, O, O]  \n",
       "4      [O, O, O, O, O, O, O, O, O, O, O, B-geo, O, O,...  \n",
       "...                                                  ...  \n",
       "47954  [B-gpe, O, O, O, O, O, O, B-gpe, O, O, O, O, O...  \n",
       "47955  [B-gpe, O, O, O, O, O, O, O, B-tim, O, O, O, O...  \n",
       "47956                  [O, O, O, O, O, O, O, O, O, O, O]  \n",
       "47957                  [O, O, O, O, O, O, O, O, O, O, O]  \n",
       "47958                       [B-gpe, O, O, O, O, O, O, O]  \n",
       "\n",
       "[47959 rows x 3 columns]"
      ]
     },
     "execution_count": 12,
     "metadata": {},
     "output_type": "execute_result"
    }
   ],
   "source": [
    "df.reset_index()"
   ]
  },
  {
   "cell_type": "code",
   "execution_count": 1,
   "metadata": {},
   "outputs": [],
   "source": [
    "from dataset import NERDataset\n",
    "\n",
    "hf = NERDataset(dataset_path=\"dataset/ner_dataset.csv\")\n",
    "hf = hf.prepare_hf_dataset()"
   ]
  },
  {
   "cell_type": "code",
   "execution_count": 22,
   "metadata": {},
   "outputs": [
    {
     "data": {
      "text/plain": [
       "Dataset({\n",
       "    features: ['id', 'tokens', 'ner_tags'],\n",
       "    num_rows: 26976\n",
       "})"
      ]
     },
     "execution_count": 22,
     "metadata": {},
     "output_type": "execute_result"
    }
   ],
   "source": [
    "hf['train']"
   ]
  },
  {
   "cell_type": "code",
   "execution_count": 23,
   "metadata": {},
   "outputs": [
    {
     "data": {
      "text/plain": [
       "Value(dtype='string', id=None)"
      ]
     },
     "execution_count": 23,
     "metadata": {},
     "output_type": "execute_result"
    }
   ],
   "source": [
    "hf['train'].features['tokens'].feature"
   ]
  },
  {
   "cell_type": "code",
   "execution_count": 18,
   "metadata": {},
   "outputs": [],
   "source": [
    "import datasets"
   ]
  },
  {
   "cell_type": "code",
   "execution_count": 37,
   "metadata": {},
   "outputs": [
    {
     "data": {
      "application/vnd.jupyter.widget-view+json": {
       "model_id": "dd4b9c01da28473ab2f9b7db7649a5bd",
       "version_major": 2,
       "version_minor": 0
      },
      "text/plain": [
       "Casting the dataset:   0%|          | 0/26976 [00:00<?, ? examples/s]"
      ]
     },
     "metadata": {},
     "output_type": "display_data"
    },
    {
     "ename": "TypeError",
     "evalue": "Couldn't cast array of type\nlist<item: string>\nto\nint64",
     "output_type": "error",
     "traceback": [
      "\u001b[0;31m---------------------------------------------------------------------------\u001b[0m",
      "\u001b[0;31mTypeError\u001b[0m                                 Traceback (most recent call last)",
      "\u001b[1;32m/Users/praneethvasarla/Praneeth/Projects/Named Entity Recognition/named-entity-recognition-bert/experiment.ipynb Cell 8\u001b[0m line \u001b[0;36m7\n\u001b[1;32m      <a href='vscode-notebook-cell:/Users/praneethvasarla/Praneeth/Projects/Named%20Entity%20Recognition/named-entity-recognition-bert/experiment.ipynb#X13sZmlsZQ%3D%3D?line=3'>4</a>\u001b[0m new_features[\u001b[39m\"\u001b[39m\u001b[39mner_tags\u001b[39m\u001b[39m\"\u001b[39m] \u001b[39m=\u001b[39m ClassLabel(names\u001b[39m=\u001b[39m[\u001b[39m\"\u001b[39m\u001b[39mnegative\u001b[39m\u001b[39m\"\u001b[39m, \u001b[39m\"\u001b[39m\u001b[39mpositive\u001b[39m\u001b[39m\"\u001b[39m])\n\u001b[1;32m      <a href='vscode-notebook-cell:/Users/praneethvasarla/Praneeth/Projects/Named%20Entity%20Recognition/named-entity-recognition-bert/experiment.ipynb#X13sZmlsZQ%3D%3D?line=4'>5</a>\u001b[0m \u001b[39m# new_features[\"id\"] = Value(\"int64\")\u001b[39;00m\n\u001b[1;32m      <a href='vscode-notebook-cell:/Users/praneethvasarla/Praneeth/Projects/Named%20Entity%20Recognition/named-entity-recognition-bert/experiment.ipynb#X13sZmlsZQ%3D%3D?line=5'>6</a>\u001b[0m \u001b[39m# new_features[\"tokens\"] = Value(\"list\")\u001b[39;00m\n\u001b[0;32m----> <a href='vscode-notebook-cell:/Users/praneethvasarla/Praneeth/Projects/Named%20Entity%20Recognition/named-entity-recognition-bert/experiment.ipynb#X13sZmlsZQ%3D%3D?line=6'>7</a>\u001b[0m hf[\u001b[39m'\u001b[39m\u001b[39mtrain\u001b[39m\u001b[39m'\u001b[39m] \u001b[39m=\u001b[39m hf[\u001b[39m'\u001b[39;49m\u001b[39mtrain\u001b[39;49m\u001b[39m'\u001b[39;49m]\u001b[39m.\u001b[39;49mcast(new_features)\n\u001b[1;32m      <a href='vscode-notebook-cell:/Users/praneethvasarla/Praneeth/Projects/Named%20Entity%20Recognition/named-entity-recognition-bert/experiment.ipynb#X13sZmlsZQ%3D%3D?line=7'>8</a>\u001b[0m hf[\u001b[39m'\u001b[39m\u001b[39mtrain\u001b[39m\u001b[39m'\u001b[39m]\u001b[39m.\u001b[39mfeatures\n",
      "File \u001b[0;32m~/miniconda3/envs/ner_bert/lib/python3.11/site-packages/datasets/arrow_dataset.py:2055\u001b[0m, in \u001b[0;36mDataset.cast\u001b[0;34m(self, features, batch_size, keep_in_memory, load_from_cache_file, cache_file_name, writer_batch_size, num_proc)\u001b[0m\n\u001b[1;32m   2053\u001b[0m dataset \u001b[39m=\u001b[39m \u001b[39mself\u001b[39m\u001b[39m.\u001b[39mwith_format(\u001b[39m\"\u001b[39m\u001b[39marrow\u001b[39m\u001b[39m\"\u001b[39m)\n\u001b[1;32m   2054\u001b[0m \u001b[39m# capture the PyArrow version here to make the lambda serializable on Windows\u001b[39;00m\n\u001b[0;32m-> 2055\u001b[0m dataset \u001b[39m=\u001b[39m dataset\u001b[39m.\u001b[39;49mmap(\n\u001b[1;32m   2056\u001b[0m     partial(table_cast, schema\u001b[39m=\u001b[39;49mschema),\n\u001b[1;32m   2057\u001b[0m     batched\u001b[39m=\u001b[39;49m\u001b[39mTrue\u001b[39;49;00m,\n\u001b[1;32m   2058\u001b[0m     batch_size\u001b[39m=\u001b[39;49mbatch_size,\n\u001b[1;32m   2059\u001b[0m     keep_in_memory\u001b[39m=\u001b[39;49mkeep_in_memory,\n\u001b[1;32m   2060\u001b[0m     load_from_cache_file\u001b[39m=\u001b[39;49mload_from_cache_file,\n\u001b[1;32m   2061\u001b[0m     cache_file_name\u001b[39m=\u001b[39;49mcache_file_name,\n\u001b[1;32m   2062\u001b[0m     writer_batch_size\u001b[39m=\u001b[39;49mwriter_batch_size,\n\u001b[1;32m   2063\u001b[0m     num_proc\u001b[39m=\u001b[39;49mnum_proc,\n\u001b[1;32m   2064\u001b[0m     features\u001b[39m=\u001b[39;49mfeatures,\n\u001b[1;32m   2065\u001b[0m     desc\u001b[39m=\u001b[39;49m\u001b[39m\"\u001b[39;49m\u001b[39mCasting the dataset\u001b[39;49m\u001b[39m\"\u001b[39;49m,\n\u001b[1;32m   2066\u001b[0m )\n\u001b[1;32m   2067\u001b[0m dataset \u001b[39m=\u001b[39m dataset\u001b[39m.\u001b[39mwith_format(\u001b[39m*\u001b[39m\u001b[39m*\u001b[39m\u001b[39mformat\u001b[39m)\n\u001b[1;32m   2068\u001b[0m \u001b[39mreturn\u001b[39;00m dataset\n",
      "File \u001b[0;32m~/miniconda3/envs/ner_bert/lib/python3.11/site-packages/datasets/arrow_dataset.py:592\u001b[0m, in \u001b[0;36mtransmit_tasks.<locals>.wrapper\u001b[0;34m(*args, **kwargs)\u001b[0m\n\u001b[1;32m    590\u001b[0m     \u001b[39mself\u001b[39m: \u001b[39m\"\u001b[39m\u001b[39mDataset\u001b[39m\u001b[39m\"\u001b[39m \u001b[39m=\u001b[39m kwargs\u001b[39m.\u001b[39mpop(\u001b[39m\"\u001b[39m\u001b[39mself\u001b[39m\u001b[39m\"\u001b[39m)\n\u001b[1;32m    591\u001b[0m \u001b[39m# apply actual function\u001b[39;00m\n\u001b[0;32m--> 592\u001b[0m out: Union[\u001b[39m\"\u001b[39m\u001b[39mDataset\u001b[39m\u001b[39m\"\u001b[39m, \u001b[39m\"\u001b[39m\u001b[39mDatasetDict\u001b[39m\u001b[39m\"\u001b[39m] \u001b[39m=\u001b[39m func(\u001b[39mself\u001b[39;49m, \u001b[39m*\u001b[39;49margs, \u001b[39m*\u001b[39;49m\u001b[39m*\u001b[39;49mkwargs)\n\u001b[1;32m    593\u001b[0m datasets: List[\u001b[39m\"\u001b[39m\u001b[39mDataset\u001b[39m\u001b[39m\"\u001b[39m] \u001b[39m=\u001b[39m \u001b[39mlist\u001b[39m(out\u001b[39m.\u001b[39mvalues()) \u001b[39mif\u001b[39;00m \u001b[39misinstance\u001b[39m(out, \u001b[39mdict\u001b[39m) \u001b[39melse\u001b[39;00m [out]\n\u001b[1;32m    594\u001b[0m \u001b[39mfor\u001b[39;00m dataset \u001b[39min\u001b[39;00m datasets:\n\u001b[1;32m    595\u001b[0m     \u001b[39m# Remove task templates if a column mapping of the template is no longer valid\u001b[39;00m\n",
      "File \u001b[0;32m~/miniconda3/envs/ner_bert/lib/python3.11/site-packages/datasets/arrow_dataset.py:557\u001b[0m, in \u001b[0;36mtransmit_format.<locals>.wrapper\u001b[0;34m(*args, **kwargs)\u001b[0m\n\u001b[1;32m    550\u001b[0m self_format \u001b[39m=\u001b[39m {\n\u001b[1;32m    551\u001b[0m     \u001b[39m\"\u001b[39m\u001b[39mtype\u001b[39m\u001b[39m\"\u001b[39m: \u001b[39mself\u001b[39m\u001b[39m.\u001b[39m_format_type,\n\u001b[1;32m    552\u001b[0m     \u001b[39m\"\u001b[39m\u001b[39mformat_kwargs\u001b[39m\u001b[39m\"\u001b[39m: \u001b[39mself\u001b[39m\u001b[39m.\u001b[39m_format_kwargs,\n\u001b[1;32m    553\u001b[0m     \u001b[39m\"\u001b[39m\u001b[39mcolumns\u001b[39m\u001b[39m\"\u001b[39m: \u001b[39mself\u001b[39m\u001b[39m.\u001b[39m_format_columns,\n\u001b[1;32m    554\u001b[0m     \u001b[39m\"\u001b[39m\u001b[39moutput_all_columns\u001b[39m\u001b[39m\"\u001b[39m: \u001b[39mself\u001b[39m\u001b[39m.\u001b[39m_output_all_columns,\n\u001b[1;32m    555\u001b[0m }\n\u001b[1;32m    556\u001b[0m \u001b[39m# apply actual function\u001b[39;00m\n\u001b[0;32m--> 557\u001b[0m out: Union[\u001b[39m\"\u001b[39m\u001b[39mDataset\u001b[39m\u001b[39m\"\u001b[39m, \u001b[39m\"\u001b[39m\u001b[39mDatasetDict\u001b[39m\u001b[39m\"\u001b[39m] \u001b[39m=\u001b[39m func(\u001b[39mself\u001b[39;49m, \u001b[39m*\u001b[39;49margs, \u001b[39m*\u001b[39;49m\u001b[39m*\u001b[39;49mkwargs)\n\u001b[1;32m    558\u001b[0m datasets: List[\u001b[39m\"\u001b[39m\u001b[39mDataset\u001b[39m\u001b[39m\"\u001b[39m] \u001b[39m=\u001b[39m \u001b[39mlist\u001b[39m(out\u001b[39m.\u001b[39mvalues()) \u001b[39mif\u001b[39;00m \u001b[39misinstance\u001b[39m(out, \u001b[39mdict\u001b[39m) \u001b[39melse\u001b[39;00m [out]\n\u001b[1;32m    559\u001b[0m \u001b[39m# re-apply format to the output\u001b[39;00m\n",
      "File \u001b[0;32m~/miniconda3/envs/ner_bert/lib/python3.11/site-packages/datasets/arrow_dataset.py:3097\u001b[0m, in \u001b[0;36mDataset.map\u001b[0;34m(self, function, with_indices, with_rank, input_columns, batched, batch_size, drop_last_batch, remove_columns, keep_in_memory, load_from_cache_file, cache_file_name, writer_batch_size, features, disable_nullable, fn_kwargs, num_proc, suffix_template, new_fingerprint, desc)\u001b[0m\n\u001b[1;32m   3090\u001b[0m \u001b[39mif\u001b[39;00m transformed_dataset \u001b[39mis\u001b[39;00m \u001b[39mNone\u001b[39;00m:\n\u001b[1;32m   3091\u001b[0m     \u001b[39mwith\u001b[39;00m logging\u001b[39m.\u001b[39mtqdm(\n\u001b[1;32m   3092\u001b[0m         disable\u001b[39m=\u001b[39m\u001b[39mnot\u001b[39;00m logging\u001b[39m.\u001b[39mis_progress_bar_enabled(),\n\u001b[1;32m   3093\u001b[0m         unit\u001b[39m=\u001b[39m\u001b[39m\"\u001b[39m\u001b[39m examples\u001b[39m\u001b[39m\"\u001b[39m,\n\u001b[1;32m   3094\u001b[0m         total\u001b[39m=\u001b[39mpbar_total,\n\u001b[1;32m   3095\u001b[0m         desc\u001b[39m=\u001b[39mdesc \u001b[39mor\u001b[39;00m \u001b[39m\"\u001b[39m\u001b[39mMap\u001b[39m\u001b[39m\"\u001b[39m,\n\u001b[1;32m   3096\u001b[0m     ) \u001b[39mas\u001b[39;00m pbar:\n\u001b[0;32m-> 3097\u001b[0m         \u001b[39mfor\u001b[39;00m rank, done, content \u001b[39min\u001b[39;00m Dataset\u001b[39m.\u001b[39m_map_single(\u001b[39m*\u001b[39m\u001b[39m*\u001b[39mdataset_kwargs):\n\u001b[1;32m   3098\u001b[0m             \u001b[39mif\u001b[39;00m done:\n\u001b[1;32m   3099\u001b[0m                 shards_done \u001b[39m+\u001b[39m\u001b[39m=\u001b[39m \u001b[39m1\u001b[39m\n",
      "File \u001b[0;32m~/miniconda3/envs/ner_bert/lib/python3.11/site-packages/datasets/arrow_dataset.py:3474\u001b[0m, in \u001b[0;36mDataset._map_single\u001b[0;34m(shard, function, with_indices, with_rank, input_columns, batched, batch_size, drop_last_batch, remove_columns, keep_in_memory, cache_file_name, writer_batch_size, features, disable_nullable, fn_kwargs, new_fingerprint, rank, offset)\u001b[0m\n\u001b[1;32m   3470\u001b[0m indices \u001b[39m=\u001b[39m \u001b[39mlist\u001b[39m(\n\u001b[1;32m   3471\u001b[0m     \u001b[39mrange\u001b[39m(\u001b[39m*\u001b[39m(\u001b[39mslice\u001b[39m(i, i \u001b[39m+\u001b[39m batch_size)\u001b[39m.\u001b[39mindices(shard\u001b[39m.\u001b[39mnum_rows)))\n\u001b[1;32m   3472\u001b[0m )  \u001b[39m# Something simpler?\u001b[39;00m\n\u001b[1;32m   3473\u001b[0m \u001b[39mtry\u001b[39;00m:\n\u001b[0;32m-> 3474\u001b[0m     batch \u001b[39m=\u001b[39m apply_function_on_filtered_inputs(\n\u001b[1;32m   3475\u001b[0m         batch,\n\u001b[1;32m   3476\u001b[0m         indices,\n\u001b[1;32m   3477\u001b[0m         check_same_num_examples\u001b[39m=\u001b[39;49m\u001b[39mlen\u001b[39;49m(shard\u001b[39m.\u001b[39;49mlist_indexes()) \u001b[39m>\u001b[39;49m \u001b[39m0\u001b[39;49m,\n\u001b[1;32m   3478\u001b[0m         offset\u001b[39m=\u001b[39;49moffset,\n\u001b[1;32m   3479\u001b[0m     )\n\u001b[1;32m   3480\u001b[0m \u001b[39mexcept\u001b[39;00m NumExamplesMismatchError:\n\u001b[1;32m   3481\u001b[0m     \u001b[39mraise\u001b[39;00m DatasetTransformationNotAllowedError(\n\u001b[1;32m   3482\u001b[0m         \u001b[39m\"\u001b[39m\u001b[39mUsing `.map` in batched mode on a dataset with attached indexes is allowed only if it doesn\u001b[39m\u001b[39m'\u001b[39m\u001b[39mt create or remove existing examples. You can first run `.drop_index() to remove your index and then re-add it.\u001b[39m\u001b[39m\"\u001b[39m\n\u001b[1;32m   3483\u001b[0m     ) \u001b[39mfrom\u001b[39;00m \u001b[39mNone\u001b[39;00m\n",
      "File \u001b[0;32m~/miniconda3/envs/ner_bert/lib/python3.11/site-packages/datasets/arrow_dataset.py:3353\u001b[0m, in \u001b[0;36mDataset._map_single.<locals>.apply_function_on_filtered_inputs\u001b[0;34m(pa_inputs, indices, check_same_num_examples, offset)\u001b[0m\n\u001b[1;32m   3351\u001b[0m \u001b[39mif\u001b[39;00m with_rank:\n\u001b[1;32m   3352\u001b[0m     additional_args \u001b[39m+\u001b[39m\u001b[39m=\u001b[39m (rank,)\n\u001b[0;32m-> 3353\u001b[0m processed_inputs \u001b[39m=\u001b[39m function(\u001b[39m*\u001b[39;49mfn_args, \u001b[39m*\u001b[39;49madditional_args, \u001b[39m*\u001b[39;49m\u001b[39m*\u001b[39;49mfn_kwargs)\n\u001b[1;32m   3354\u001b[0m \u001b[39mif\u001b[39;00m \u001b[39misinstance\u001b[39m(processed_inputs, LazyDict):\n\u001b[1;32m   3355\u001b[0m     processed_inputs \u001b[39m=\u001b[39m {\n\u001b[1;32m   3356\u001b[0m         k: v \u001b[39mfor\u001b[39;00m k, v \u001b[39min\u001b[39;00m processed_inputs\u001b[39m.\u001b[39mdata\u001b[39m.\u001b[39mitems() \u001b[39mif\u001b[39;00m k \u001b[39mnot\u001b[39;00m \u001b[39min\u001b[39;00m processed_inputs\u001b[39m.\u001b[39mkeys_to_format\n\u001b[1;32m   3357\u001b[0m     }\n",
      "File \u001b[0;32m~/miniconda3/envs/ner_bert/lib/python3.11/site-packages/datasets/table.py:2328\u001b[0m, in \u001b[0;36mtable_cast\u001b[0;34m(table, schema)\u001b[0m\n\u001b[1;32m   2314\u001b[0m \u001b[39m\u001b[39m\u001b[39m\"\"\"Improved version of `pa.Table.cast`.\u001b[39;00m\n\u001b[1;32m   2315\u001b[0m \n\u001b[1;32m   2316\u001b[0m \u001b[39mIt supports casting to feature types stored in the schema metadata.\u001b[39;00m\n\u001b[0;32m   (...)\u001b[0m\n\u001b[1;32m   2325\u001b[0m \u001b[39m    table (`pyarrow.Table`): the casted table\u001b[39;00m\n\u001b[1;32m   2326\u001b[0m \u001b[39m\"\"\"\u001b[39;00m\n\u001b[1;32m   2327\u001b[0m \u001b[39mif\u001b[39;00m table\u001b[39m.\u001b[39mschema \u001b[39m!=\u001b[39m schema:\n\u001b[0;32m-> 2328\u001b[0m     \u001b[39mreturn\u001b[39;00m cast_table_to_schema(table, schema)\n\u001b[1;32m   2329\u001b[0m \u001b[39melif\u001b[39;00m table\u001b[39m.\u001b[39mschema\u001b[39m.\u001b[39mmetadata \u001b[39m!=\u001b[39m schema\u001b[39m.\u001b[39mmetadata:\n\u001b[1;32m   2330\u001b[0m     \u001b[39mreturn\u001b[39;00m table\u001b[39m.\u001b[39mreplace_schema_metadata(schema\u001b[39m.\u001b[39mmetadata)\n",
      "File \u001b[0;32m~/miniconda3/envs/ner_bert/lib/python3.11/site-packages/datasets/table.py:2287\u001b[0m, in \u001b[0;36mcast_table_to_schema\u001b[0;34m(table, schema)\u001b[0m\n\u001b[1;32m   2285\u001b[0m \u001b[39mif\u001b[39;00m \u001b[39msorted\u001b[39m(table\u001b[39m.\u001b[39mcolumn_names) \u001b[39m!=\u001b[39m \u001b[39msorted\u001b[39m(features):\n\u001b[1;32m   2286\u001b[0m     \u001b[39mraise\u001b[39;00m \u001b[39mValueError\u001b[39;00m(\u001b[39mf\u001b[39m\u001b[39m\"\u001b[39m\u001b[39mCouldn\u001b[39m\u001b[39m'\u001b[39m\u001b[39mt cast\u001b[39m\u001b[39m\\n\u001b[39;00m\u001b[39m{\u001b[39;00mtable\u001b[39m.\u001b[39mschema\u001b[39m}\u001b[39;00m\u001b[39m\\n\u001b[39;00m\u001b[39mto\u001b[39m\u001b[39m\\n\u001b[39;00m\u001b[39m{\u001b[39;00mfeatures\u001b[39m}\u001b[39;00m\u001b[39m\\n\u001b[39;00m\u001b[39mbecause column names don\u001b[39m\u001b[39m'\u001b[39m\u001b[39mt match\u001b[39m\u001b[39m\"\u001b[39m)\n\u001b[0;32m-> 2287\u001b[0m arrays \u001b[39m=\u001b[39m [cast_array_to_feature(table[name], feature) \u001b[39mfor\u001b[39;49;00m name, feature \u001b[39min\u001b[39;49;00m features\u001b[39m.\u001b[39;49mitems()]\n\u001b[1;32m   2288\u001b[0m \u001b[39mreturn\u001b[39;00m pa\u001b[39m.\u001b[39mTable\u001b[39m.\u001b[39mfrom_arrays(arrays, schema\u001b[39m=\u001b[39mschema)\n",
      "File \u001b[0;32m~/miniconda3/envs/ner_bert/lib/python3.11/site-packages/datasets/table.py:2287\u001b[0m, in \u001b[0;36m<listcomp>\u001b[0;34m(.0)\u001b[0m\n\u001b[1;32m   2285\u001b[0m \u001b[39mif\u001b[39;00m \u001b[39msorted\u001b[39m(table\u001b[39m.\u001b[39mcolumn_names) \u001b[39m!=\u001b[39m \u001b[39msorted\u001b[39m(features):\n\u001b[1;32m   2286\u001b[0m     \u001b[39mraise\u001b[39;00m \u001b[39mValueError\u001b[39;00m(\u001b[39mf\u001b[39m\u001b[39m\"\u001b[39m\u001b[39mCouldn\u001b[39m\u001b[39m'\u001b[39m\u001b[39mt cast\u001b[39m\u001b[39m\\n\u001b[39;00m\u001b[39m{\u001b[39;00mtable\u001b[39m.\u001b[39mschema\u001b[39m}\u001b[39;00m\u001b[39m\\n\u001b[39;00m\u001b[39mto\u001b[39m\u001b[39m\\n\u001b[39;00m\u001b[39m{\u001b[39;00mfeatures\u001b[39m}\u001b[39;00m\u001b[39m\\n\u001b[39;00m\u001b[39mbecause column names don\u001b[39m\u001b[39m'\u001b[39m\u001b[39mt match\u001b[39m\u001b[39m\"\u001b[39m)\n\u001b[0;32m-> 2287\u001b[0m arrays \u001b[39m=\u001b[39m [cast_array_to_feature(table[name], feature) \u001b[39mfor\u001b[39;00m name, feature \u001b[39min\u001b[39;00m features\u001b[39m.\u001b[39mitems()]\n\u001b[1;32m   2288\u001b[0m \u001b[39mreturn\u001b[39;00m pa\u001b[39m.\u001b[39mTable\u001b[39m.\u001b[39mfrom_arrays(arrays, schema\u001b[39m=\u001b[39mschema)\n",
      "File \u001b[0;32m~/miniconda3/envs/ner_bert/lib/python3.11/site-packages/datasets/table.py:1831\u001b[0m, in \u001b[0;36m_wrap_for_chunked_arrays.<locals>.wrapper\u001b[0;34m(array, *args, **kwargs)\u001b[0m\n\u001b[1;32m   1829\u001b[0m \u001b[39mdef\u001b[39;00m \u001b[39mwrapper\u001b[39m(array, \u001b[39m*\u001b[39margs, \u001b[39m*\u001b[39m\u001b[39m*\u001b[39mkwargs):\n\u001b[1;32m   1830\u001b[0m     \u001b[39mif\u001b[39;00m \u001b[39misinstance\u001b[39m(array, pa\u001b[39m.\u001b[39mChunkedArray):\n\u001b[0;32m-> 1831\u001b[0m         \u001b[39mreturn\u001b[39;00m pa\u001b[39m.\u001b[39mchunked_array([func(chunk, \u001b[39m*\u001b[39;49margs, \u001b[39m*\u001b[39;49m\u001b[39m*\u001b[39;49mkwargs) \u001b[39mfor\u001b[39;49;00m chunk \u001b[39min\u001b[39;49;00m array\u001b[39m.\u001b[39;49mchunks])\n\u001b[1;32m   1832\u001b[0m     \u001b[39melse\u001b[39;00m:\n\u001b[1;32m   1833\u001b[0m         \u001b[39mreturn\u001b[39;00m func(array, \u001b[39m*\u001b[39margs, \u001b[39m*\u001b[39m\u001b[39m*\u001b[39mkwargs)\n",
      "File \u001b[0;32m~/miniconda3/envs/ner_bert/lib/python3.11/site-packages/datasets/table.py:1831\u001b[0m, in \u001b[0;36m<listcomp>\u001b[0;34m(.0)\u001b[0m\n\u001b[1;32m   1829\u001b[0m \u001b[39mdef\u001b[39;00m \u001b[39mwrapper\u001b[39m(array, \u001b[39m*\u001b[39margs, \u001b[39m*\u001b[39m\u001b[39m*\u001b[39mkwargs):\n\u001b[1;32m   1830\u001b[0m     \u001b[39mif\u001b[39;00m \u001b[39misinstance\u001b[39m(array, pa\u001b[39m.\u001b[39mChunkedArray):\n\u001b[0;32m-> 1831\u001b[0m         \u001b[39mreturn\u001b[39;00m pa\u001b[39m.\u001b[39mchunked_array([func(chunk, \u001b[39m*\u001b[39;49margs, \u001b[39m*\u001b[39;49m\u001b[39m*\u001b[39;49mkwargs) \u001b[39mfor\u001b[39;00m chunk \u001b[39min\u001b[39;00m array\u001b[39m.\u001b[39mchunks])\n\u001b[1;32m   1832\u001b[0m     \u001b[39melse\u001b[39;00m:\n\u001b[1;32m   1833\u001b[0m         \u001b[39mreturn\u001b[39;00m func(array, \u001b[39m*\u001b[39margs, \u001b[39m*\u001b[39m\u001b[39m*\u001b[39mkwargs)\n",
      "File \u001b[0;32m~/miniconda3/envs/ner_bert/lib/python3.11/site-packages/datasets/table.py:2063\u001b[0m, in \u001b[0;36mcast_array_to_feature\u001b[0;34m(array, feature, allow_number_to_str)\u001b[0m\n\u001b[1;32m   2061\u001b[0m     array \u001b[39m=\u001b[39m array\u001b[39m.\u001b[39mstorage\n\u001b[1;32m   2062\u001b[0m \u001b[39mif\u001b[39;00m \u001b[39mhasattr\u001b[39m(feature, \u001b[39m\"\u001b[39m\u001b[39mcast_storage\u001b[39m\u001b[39m\"\u001b[39m):\n\u001b[0;32m-> 2063\u001b[0m     \u001b[39mreturn\u001b[39;00m feature\u001b[39m.\u001b[39;49mcast_storage(array)\n\u001b[1;32m   2064\u001b[0m \u001b[39melif\u001b[39;00m pa\u001b[39m.\u001b[39mtypes\u001b[39m.\u001b[39mis_struct(array\u001b[39m.\u001b[39mtype):\n\u001b[1;32m   2065\u001b[0m     \u001b[39m# feature must be a dict or Sequence(subfeatures_dict)\u001b[39;00m\n\u001b[1;32m   2066\u001b[0m     \u001b[39mif\u001b[39;00m \u001b[39misinstance\u001b[39m(feature, Sequence) \u001b[39mand\u001b[39;00m \u001b[39misinstance\u001b[39m(feature\u001b[39m.\u001b[39mfeature, \u001b[39mdict\u001b[39m):\n",
      "File \u001b[0;32m~/miniconda3/envs/ner_bert/lib/python3.11/site-packages/datasets/features/features.py:1106\u001b[0m, in \u001b[0;36mClassLabel.cast_storage\u001b[0;34m(self, storage)\u001b[0m\n\u001b[1;32m   1102\u001b[0m \u001b[39melif\u001b[39;00m \u001b[39misinstance\u001b[39m(storage, pa\u001b[39m.\u001b[39mStringArray):\n\u001b[1;32m   1103\u001b[0m     storage \u001b[39m=\u001b[39m pa\u001b[39m.\u001b[39marray(\n\u001b[1;32m   1104\u001b[0m         [\u001b[39mself\u001b[39m\u001b[39m.\u001b[39m_strval2int(label) \u001b[39mif\u001b[39;00m label \u001b[39mis\u001b[39;00m \u001b[39mnot\u001b[39;00m \u001b[39mNone\u001b[39;00m \u001b[39melse\u001b[39;00m \u001b[39mNone\u001b[39;00m \u001b[39mfor\u001b[39;00m label \u001b[39min\u001b[39;00m storage\u001b[39m.\u001b[39mto_pylist()]\n\u001b[1;32m   1105\u001b[0m     )\n\u001b[0;32m-> 1106\u001b[0m \u001b[39mreturn\u001b[39;00m array_cast(storage, \u001b[39mself\u001b[39;49m\u001b[39m.\u001b[39;49mpa_type)\n",
      "File \u001b[0;32m~/miniconda3/envs/ner_bert/lib/python3.11/site-packages/datasets/table.py:1833\u001b[0m, in \u001b[0;36m_wrap_for_chunked_arrays.<locals>.wrapper\u001b[0;34m(array, *args, **kwargs)\u001b[0m\n\u001b[1;32m   1831\u001b[0m     \u001b[39mreturn\u001b[39;00m pa\u001b[39m.\u001b[39mchunked_array([func(chunk, \u001b[39m*\u001b[39margs, \u001b[39m*\u001b[39m\u001b[39m*\u001b[39mkwargs) \u001b[39mfor\u001b[39;00m chunk \u001b[39min\u001b[39;00m array\u001b[39m.\u001b[39mchunks])\n\u001b[1;32m   1832\u001b[0m \u001b[39melse\u001b[39;00m:\n\u001b[0;32m-> 1833\u001b[0m     \u001b[39mreturn\u001b[39;00m func(array, \u001b[39m*\u001b[39;49margs, \u001b[39m*\u001b[39;49m\u001b[39m*\u001b[39;49mkwargs)\n",
      "File \u001b[0;32m~/miniconda3/envs/ner_bert/lib/python3.11/site-packages/datasets/table.py:2028\u001b[0m, in \u001b[0;36marray_cast\u001b[0;34m(array, pa_type, allow_number_to_str)\u001b[0m\n\u001b[1;32m   2026\u001b[0m         \u001b[39mraise\u001b[39;00m \u001b[39mTypeError\u001b[39;00m(\u001b[39mf\u001b[39m\u001b[39m\"\u001b[39m\u001b[39mCouldn\u001b[39m\u001b[39m'\u001b[39m\u001b[39mt cast array of type \u001b[39m\u001b[39m{\u001b[39;00marray\u001b[39m.\u001b[39mtype\u001b[39m}\u001b[39;00m\u001b[39m to \u001b[39m\u001b[39m{\u001b[39;00mpa_type\u001b[39m}\u001b[39;00m\u001b[39m\"\u001b[39m)\n\u001b[1;32m   2027\u001b[0m     \u001b[39mreturn\u001b[39;00m array\u001b[39m.\u001b[39mcast(pa_type)\n\u001b[0;32m-> 2028\u001b[0m \u001b[39mraise\u001b[39;00m \u001b[39mTypeError\u001b[39;00m(\u001b[39mf\u001b[39m\u001b[39m\"\u001b[39m\u001b[39mCouldn\u001b[39m\u001b[39m'\u001b[39m\u001b[39mt cast array of type\u001b[39m\u001b[39m\\n\u001b[39;00m\u001b[39m{\u001b[39;00marray\u001b[39m.\u001b[39mtype\u001b[39m}\u001b[39;00m\u001b[39m\\n\u001b[39;00m\u001b[39mto\u001b[39m\u001b[39m\\n\u001b[39;00m\u001b[39m{\u001b[39;00mpa_type\u001b[39m}\u001b[39;00m\u001b[39m\"\u001b[39m)\n",
      "\u001b[0;31mTypeError\u001b[0m: Couldn't cast array of type\nlist<item: string>\nto\nint64"
     ]
    }
   ],
   "source": [
    "from datasets import ClassLabel, Value\n",
    "\n",
    "new_features = hf['train'].features.copy()\n",
    "new_features[\"ner_tags\"] = ClassLabel(names=[\"negative\", \"positive\"])\n",
    "# new_features[\"id\"] = Value(\"int64\")\n",
    "# new_features[\"tokens\"] = Value(\"list\")\n",
    "hf['train'] = hf['train'].cast(new_features)\n",
    "hf['train'].features"
   ]
  },
  {
   "cell_type": "code",
   "execution_count": 27,
   "metadata": {},
   "outputs": [
    {
     "ename": "AttributeError",
     "evalue": "'dict' object has no attribute 'arrow_schema'",
     "output_type": "error",
     "traceback": [
      "\u001b[0;31m---------------------------------------------------------------------------\u001b[0m",
      "\u001b[0;31mAttributeError\u001b[0m                            Traceback (most recent call last)",
      "\u001b[1;32m/Users/praneethvasarla/Praneeth/Projects/Named Entity Recognition/named-entity-recognition-bert/experiment.ipynb Cell 8\u001b[0m line \u001b[0;36m7\n\u001b[1;32m      <a href='vscode-notebook-cell:/Users/praneethvasarla/Praneeth/Projects/Named%20Entity%20Recognition/named-entity-recognition-bert/experiment.ipynb#W6sZmlsZQ%3D%3D?line=0'>1</a>\u001b[0m features \u001b[39m=\u001b[39m {\n\u001b[1;32m      <a href='vscode-notebook-cell:/Users/praneethvasarla/Praneeth/Projects/Named%20Entity%20Recognition/named-entity-recognition-bert/experiment.ipynb#W6sZmlsZQ%3D%3D?line=1'>2</a>\u001b[0m     \u001b[39m'\u001b[39m\u001b[39mid\u001b[39m\u001b[39m'\u001b[39m: datasets\u001b[39m.\u001b[39mValue(dtype\u001b[39m=\u001b[39m\u001b[39m'\u001b[39m\u001b[39mint64\u001b[39m\u001b[39m'\u001b[39m, \u001b[39mid\u001b[39m\u001b[39m=\u001b[39m\u001b[39mNone\u001b[39;00m),\n\u001b[1;32m      <a href='vscode-notebook-cell:/Users/praneethvasarla/Praneeth/Projects/Named%20Entity%20Recognition/named-entity-recognition-bert/experiment.ipynb#W6sZmlsZQ%3D%3D?line=2'>3</a>\u001b[0m     \u001b[39m'\u001b[39m\u001b[39mtokens\u001b[39m\u001b[39m'\u001b[39m: datasets\u001b[39m.\u001b[39mSequence(datasets\u001b[39m.\u001b[39mValue(dtype\u001b[39m=\u001b[39m\u001b[39m'\u001b[39m\u001b[39mstring\u001b[39m\u001b[39m'\u001b[39m, \u001b[39mid\u001b[39m\u001b[39m=\u001b[39m\u001b[39mNone\u001b[39;00m), length\u001b[39m=\u001b[39m\u001b[39m-\u001b[39m\u001b[39m1\u001b[39m, \u001b[39mid\u001b[39m\u001b[39m=\u001b[39m\u001b[39mNone\u001b[39;00m),\n\u001b[1;32m      <a href='vscode-notebook-cell:/Users/praneethvasarla/Praneeth/Projects/Named%20Entity%20Recognition/named-entity-recognition-bert/experiment.ipynb#W6sZmlsZQ%3D%3D?line=3'>4</a>\u001b[0m     \u001b[39m'\u001b[39m\u001b[39mner_tags\u001b[39m\u001b[39m'\u001b[39m: datasets\u001b[39m.\u001b[39mSequence(datasets\u001b[39m.\u001b[39mClassLabel(names\u001b[39m=\u001b[39m[\u001b[39m'\u001b[39m\u001b[39mPERSON\u001b[39m\u001b[39m'\u001b[39m, \u001b[39m'\u001b[39m\u001b[39mLOCATION\u001b[39m\u001b[39m'\u001b[39m, \u001b[39m'\u001b[39m\u001b[39mORGANIZATION\u001b[39m\u001b[39m'\u001b[39m]), length\u001b[39m=\u001b[39m\u001b[39m-\u001b[39m\u001b[39m1\u001b[39m, \u001b[39mid\u001b[39m\u001b[39m=\u001b[39m\u001b[39mNone\u001b[39;00m),\n\u001b[1;32m      <a href='vscode-notebook-cell:/Users/praneethvasarla/Praneeth/Projects/Named%20Entity%20Recognition/named-entity-recognition-bert/experiment.ipynb#W6sZmlsZQ%3D%3D?line=4'>5</a>\u001b[0m }\n\u001b[0;32m----> <a href='vscode-notebook-cell:/Users/praneethvasarla/Praneeth/Projects/Named%20Entity%20Recognition/named-entity-recognition-bert/experiment.ipynb#W6sZmlsZQ%3D%3D?line=6'>7</a>\u001b[0m hf \u001b[39m=\u001b[39m hf\u001b[39m.\u001b[39;49mcast(features)\n",
      "File \u001b[0;32m~/miniconda3/envs/ner_bert/lib/python3.11/site-packages/datasets/dataset_dict.py:283\u001b[0m, in \u001b[0;36mDatasetDict.cast\u001b[0;34m(self, features)\u001b[0m\n\u001b[1;32m    251\u001b[0m \u001b[39m\u001b[39m\u001b[39m\"\"\"\u001b[39;00m\n\u001b[1;32m    252\u001b[0m \u001b[39mCast the dataset to a new set of features.\u001b[39;00m\n\u001b[1;32m    253\u001b[0m \u001b[39mThe transformation is applied to all the datasets of the dataset dictionary.\u001b[39;00m\n\u001b[0;32m   (...)\u001b[0m\n\u001b[1;32m    280\u001b[0m \u001b[39m```\u001b[39;00m\n\u001b[1;32m    281\u001b[0m \u001b[39m\"\"\"\u001b[39;00m\n\u001b[1;32m    282\u001b[0m \u001b[39mself\u001b[39m\u001b[39m.\u001b[39m_check_values_type()\n\u001b[0;32m--> 283\u001b[0m \u001b[39mreturn\u001b[39;00m DatasetDict({k: dataset\u001b[39m.\u001b[39;49mcast(features\u001b[39m=\u001b[39;49mfeatures) \u001b[39mfor\u001b[39;49;00m k, dataset \u001b[39min\u001b[39;49;00m \u001b[39mself\u001b[39;49m\u001b[39m.\u001b[39;49mitems()})\n",
      "File \u001b[0;32m~/miniconda3/envs/ner_bert/lib/python3.11/site-packages/datasets/dataset_dict.py:283\u001b[0m, in \u001b[0;36m<dictcomp>\u001b[0;34m(.0)\u001b[0m\n\u001b[1;32m    251\u001b[0m \u001b[39m\u001b[39m\u001b[39m\"\"\"\u001b[39;00m\n\u001b[1;32m    252\u001b[0m \u001b[39mCast the dataset to a new set of features.\u001b[39;00m\n\u001b[1;32m    253\u001b[0m \u001b[39mThe transformation is applied to all the datasets of the dataset dictionary.\u001b[39;00m\n\u001b[0;32m   (...)\u001b[0m\n\u001b[1;32m    280\u001b[0m \u001b[39m```\u001b[39;00m\n\u001b[1;32m    281\u001b[0m \u001b[39m\"\"\"\u001b[39;00m\n\u001b[1;32m    282\u001b[0m \u001b[39mself\u001b[39m\u001b[39m.\u001b[39m_check_values_type()\n\u001b[0;32m--> 283\u001b[0m \u001b[39mreturn\u001b[39;00m DatasetDict({k: dataset\u001b[39m.\u001b[39;49mcast(features\u001b[39m=\u001b[39;49mfeatures) \u001b[39mfor\u001b[39;00m k, dataset \u001b[39min\u001b[39;00m \u001b[39mself\u001b[39m\u001b[39m.\u001b[39mitems()})\n",
      "File \u001b[0;32m~/miniconda3/envs/ner_bert/lib/python3.11/site-packages/datasets/arrow_dataset.py:2051\u001b[0m, in \u001b[0;36mDataset.cast\u001b[0;34m(self, features, batch_size, keep_in_memory, load_from_cache_file, cache_file_name, writer_batch_size, num_proc)\u001b[0m\n\u001b[1;32m   2045\u001b[0m \u001b[39mif\u001b[39;00m \u001b[39msorted\u001b[39m(features) \u001b[39m!=\u001b[39m \u001b[39msorted\u001b[39m(\u001b[39mself\u001b[39m\u001b[39m.\u001b[39m_data\u001b[39m.\u001b[39mcolumn_names):\n\u001b[1;32m   2046\u001b[0m     \u001b[39mraise\u001b[39;00m \u001b[39mValueError\u001b[39;00m(\n\u001b[1;32m   2047\u001b[0m         \u001b[39mf\u001b[39m\u001b[39m\"\u001b[39m\u001b[39mThe columns in features (\u001b[39m\u001b[39m{\u001b[39;00m\u001b[39mlist\u001b[39m(features)\u001b[39m}\u001b[39;00m\u001b[39m) must be identical \u001b[39m\u001b[39m\"\u001b[39m\n\u001b[1;32m   2048\u001b[0m         \u001b[39mf\u001b[39m\u001b[39m\"\u001b[39m\u001b[39mas the columns in the dataset: \u001b[39m\u001b[39m{\u001b[39;00m\u001b[39mself\u001b[39m\u001b[39m.\u001b[39m_data\u001b[39m.\u001b[39mcolumn_names\u001b[39m}\u001b[39;00m\u001b[39m\"\u001b[39m\n\u001b[1;32m   2049\u001b[0m     )\n\u001b[0;32m-> 2051\u001b[0m schema \u001b[39m=\u001b[39m features\u001b[39m.\u001b[39;49marrow_schema\n\u001b[1;32m   2052\u001b[0m \u001b[39mformat\u001b[39m \u001b[39m=\u001b[39m \u001b[39mself\u001b[39m\u001b[39m.\u001b[39mformat\n\u001b[1;32m   2053\u001b[0m dataset \u001b[39m=\u001b[39m \u001b[39mself\u001b[39m\u001b[39m.\u001b[39mwith_format(\u001b[39m\"\u001b[39m\u001b[39marrow\u001b[39m\u001b[39m\"\u001b[39m)\n",
      "\u001b[0;31mAttributeError\u001b[0m: 'dict' object has no attribute 'arrow_schema'"
     ]
    }
   ],
   "source": [
    "features = {\n",
    "    'id': datasets.Value(dtype='int64', id=None),\n",
    "    'tokens': datasets.Sequence(datasets.Value(dtype='string', id=None), length=-1, id=None),\n",
    "    'ner_tags': datasets.Sequence(datasets.ClassLabel(names=['PERSON', 'LOCATION', 'ORGANIZATION']), length=-1, id=None),\n",
    "}\n",
    "\n",
    "hf = hf.cast(features)"
   ]
  },
  {
   "cell_type": "code",
   "execution_count": 29,
   "metadata": {},
   "outputs": [
    {
     "data": {
      "text/plain": [
       "'2.14.5'"
      ]
     },
     "execution_count": 29,
     "metadata": {},
     "output_type": "execute_result"
    }
   ],
   "source": [
    "datasets.__version__"
   ]
  },
  {
   "cell_type": "code",
   "execution_count": null,
   "metadata": {},
   "outputs": [],
   "source": []
  }
 ],
 "metadata": {
  "kernelspec": {
   "display_name": "ner_bert",
   "language": "python",
   "name": "python3"
  },
  "language_info": {
   "codemirror_mode": {
    "name": "ipython",
    "version": 3
   },
   "file_extension": ".py",
   "mimetype": "text/x-python",
   "name": "python",
   "nbconvert_exporter": "python",
   "pygments_lexer": "ipython3",
   "version": "3.11.4"
  }
 },
 "nbformat": 4,
 "nbformat_minor": 2
}
